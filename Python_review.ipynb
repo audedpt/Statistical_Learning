{
  "nbformat": 4,
  "nbformat_minor": 0,
  "metadata": {
    "colab": {
      "provenance": [],
      "collapsed_sections": [
        "tnpgQHcWrbFQ",
        "LCNMFGwytm8v",
        "r-cqdA1L0M9R",
        "-dbtrW0W4Znu"
      ],
      "authorship_tag": "ABX9TyPZrzS0Drqym/mNWR3kkV7E",
      "include_colab_link": true
    },
    "kernelspec": {
      "name": "python3",
      "display_name": "Python 3"
    },
    "language_info": {
      "name": "python"
    }
  },
  "cells": [
    {
      "cell_type": "markdown",
      "metadata": {
        "id": "view-in-github",
        "colab_type": "text"
      },
      "source": [
        "<a href=\"https://colab.research.google.com/github/audedpt/Statistical_Learning/blob/main/Python_review.ipynb\" target=\"_parent\"><img src=\"https://colab.research.google.com/assets/colab-badge.svg\" alt=\"Open In Colab\"/></a>"
      ]
    },
    {
      "cell_type": "code",
      "execution_count": null,
      "metadata": {
        "id": "4wYoUE_EpeqR"
      },
      "outputs": [],
      "source": [
        "!pip install ISLP"
      ]
    },
    {
      "cell_type": "markdown",
      "source": [
        "# Basic commands"
      ],
      "metadata": {
        "id": "tnpgQHcWrbFQ"
      }
    },
    {
      "cell_type": "code",
      "source": [
        "print('fit a model with', 11, 'variables')"
      ],
      "metadata": {
        "colab": {
          "base_uri": "https://localhost:8080/"
        },
        "id": "c-lfpD1Sq-my",
        "outputId": "321b2857-e6b7-474b-ce44-bf6628c3ee86"
      },
      "execution_count": null,
      "outputs": [
        {
          "output_type": "stream",
          "name": "stdout",
          "text": [
            "fit a model with 11 variabels\n"
          ]
        }
      ]
    },
    {
      "cell_type": "code",
      "source": [
        "print?"
      ],
      "metadata": {
        "id": "FfVNf0nsrmz5"
      },
      "execution_count": null,
      "outputs": []
    },
    {
      "cell_type": "code",
      "source": [
        "3+5"
      ],
      "metadata": {
        "colab": {
          "base_uri": "https://localhost:8080/"
        },
        "id": "amdc8uhArwW3",
        "outputId": "efae9338-767a-4799-d5b6-ac061d63ce94"
      },
      "execution_count": null,
      "outputs": [
        {
          "output_type": "execute_result",
          "data": {
            "text/plain": [
              "8"
            ]
          },
          "metadata": {},
          "execution_count": 4
        }
      ]
    },
    {
      "cell_type": "code",
      "source": [
        "\"hello\" + ' '+ 'world' #Concatenation of strings"
      ],
      "metadata": {
        "colab": {
          "base_uri": "https://localhost:8080/",
          "height": 36
        },
        "id": "O8Hmigwpryzd",
        "outputId": "11008f97-5677-40bf-d3ee-8ce0bb2d2d8a"
      },
      "execution_count": null,
      "outputs": [
        {
          "output_type": "execute_result",
          "data": {
            "text/plain": [
              "'hello world'"
            ],
            "application/vnd.google.colaboratory.intrinsic+json": {
              "type": "string"
            }
          },
          "metadata": {},
          "execution_count": 5
        }
      ]
    },
    {
      "cell_type": "markdown",
      "source": [
        "3 types of sequences :\n",
        "* Lists\n",
        "* Tuples\n",
        "* Strings"
      ],
      "metadata": {
        "id": "MBnSMKCEr8jH"
      }
    },
    {
      "cell_type": "markdown",
      "source": [
        "## Lists [ ]"
      ],
      "metadata": {
        "id": "y3AZHkYwsMnF"
      }
    },
    {
      "cell_type": "code",
      "source": [
        "x=[3,4,5]\n",
        "x"
      ],
      "metadata": {
        "colab": {
          "base_uri": "https://localhost:8080/"
        },
        "id": "CSJWdmErsHPP",
        "outputId": "b0b6ec61-3bb1-4279-a031-b5a22dd5f68a"
      },
      "execution_count": null,
      "outputs": [
        {
          "output_type": "execute_result",
          "data": {
            "text/plain": [
              "[3, 4, 5]"
            ]
          },
          "metadata": {},
          "execution_count": 6
        }
      ]
    },
    {
      "cell_type": "code",
      "source": [
        "y =[4,9,7]\n",
        "x+y #Concatenation of lists"
      ],
      "metadata": {
        "colab": {
          "base_uri": "https://localhost:8080/"
        },
        "id": "oL26_1MMsc_y",
        "outputId": "b13b9143-ff52-421b-b107-d86e7d0d7c55"
      },
      "execution_count": null,
      "outputs": [
        {
          "output_type": "execute_result",
          "data": {
            "text/plain": [
              "[3, 4, 5, 4, 9, 7]"
            ]
          },
          "metadata": {},
          "execution_count": 7
        }
      ]
    },
    {
      "cell_type": "markdown",
      "source": [
        "# Numerical Python with Numpy"
      ],
      "metadata": {
        "id": "5ZoKkhqvs6Ny"
      }
    },
    {
      "cell_type": "code",
      "source": [
        "import numpy as np"
      ],
      "metadata": {
        "id": "OJ3AUmJUs8cf"
      },
      "execution_count": 2,
      "outputs": []
    },
    {
      "cell_type": "markdown",
      "source": [
        "## np.array()"
      ],
      "metadata": {
        "id": "LCNMFGwytm8v"
      }
    },
    {
      "cell_type": "markdown",
      "source": [
        "array = multidimensional set of numbers"
      ],
      "metadata": {
        "id": "FdaQ_jcVtZxH"
      }
    },
    {
      "cell_type": "code",
      "source": [
        "x = np.array([3,4,5])#1D array\n",
        "y = np.array([4,9,7])\n",
        "x+y #sum of arrays"
      ],
      "metadata": {
        "colab": {
          "base_uri": "https://localhost:8080/"
        },
        "id": "KADn-h59tXGj",
        "outputId": "920cb631-d2e3-4f7d-df78-5110d16b683c"
      },
      "execution_count": null,
      "outputs": [
        {
          "output_type": "execute_result",
          "data": {
            "text/plain": [
              "array([ 7, 13, 12])"
            ]
          },
          "metadata": {},
          "execution_count": 9
        }
      ]
    },
    {
      "cell_type": "markdown",
      "source": [
        "vectors = 1D arrays np.array([ ])\n",
        "\n",
        "matrices = 2D arrays np.array([[ ],[ ]]) or np.matrix([[ ],[ ]])"
      ],
      "metadata": {
        "id": "H6upTZ44uS7p"
      }
    },
    {
      "cell_type": "code",
      "source": [
        "x = np.array([[1,2],[3,4]]) #2D array\n",
        "x"
      ],
      "metadata": {
        "colab": {
          "base_uri": "https://localhost:8080/"
        },
        "id": "Ied-uwtHt-T3",
        "outputId": "886fe1ed-13f7-44b4-a2ff-ed8fe60c9302"
      },
      "execution_count": null,
      "outputs": [
        {
          "output_type": "execute_result",
          "data": {
            "text/plain": [
              "array([[1, 2],\n",
              "       [3, 4]])"
            ]
          },
          "metadata": {},
          "execution_count": 11
        }
      ]
    },
    {
      "cell_type": "markdown",
      "source": [],
      "metadata": {
        "id": "2Q7UGDJzypCP"
      }
    },
    {
      "cell_type": "code",
      "source": [
        "z = np.matrix([[1,2],[3,4]])\n",
        "z"
      ],
      "metadata": {
        "colab": {
          "base_uri": "https://localhost:8080/"
        },
        "id": "3m0t_9qZyXRX",
        "outputId": "94544d01-90bb-4e74-f67b-9e9852dd7a39"
      },
      "execution_count": null,
      "outputs": [
        {
          "output_type": "execute_result",
          "data": {
            "text/plain": [
              "matrix([[1, 2],\n",
              "        [3, 4]])"
            ]
          },
          "metadata": {},
          "execution_count": 14
        }
      ]
    },
    {
      "cell_type": "markdown",
      "source": [
        "### attributes of an array\n",
        "x.attribute"
      ],
      "metadata": {
        "id": "-IqtTnhaxPbY"
      }
    },
    {
      "cell_type": "code",
      "source": [
        "x.ndim #nbr dimension of x"
      ],
      "metadata": {
        "colab": {
          "base_uri": "https://localhost:8080/"
        },
        "id": "rjFNq5NfxUtY",
        "outputId": "419c0a16-f2f3-4151-e08f-837c00ff4f99"
      },
      "execution_count": null,
      "outputs": [
        {
          "output_type": "execute_result",
          "data": {
            "text/plain": [
              "2"
            ]
          },
          "metadata": {},
          "execution_count": 12
        }
      ]
    },
    {
      "cell_type": "code",
      "source": [
        "x.dtype #data type of x"
      ],
      "metadata": {
        "colab": {
          "base_uri": "https://localhost:8080/"
        },
        "id": "5tu-AZMnxg-J",
        "outputId": "ebf5e5aa-3848-4db0-9d7c-666760984e9a"
      },
      "execution_count": null,
      "outputs": [
        {
          "output_type": "execute_result",
          "data": {
            "text/plain": [
              "dtype('int64')"
            ]
          },
          "metadata": {},
          "execution_count": 13
        }
      ]
    },
    {
      "cell_type": "code",
      "source": [
        "np.array([[1,2],[3.0,4]]).dtype"
      ],
      "metadata": {
        "colab": {
          "base_uri": "https://localhost:8080/"
        },
        "id": "RcJGbqaoy9ZT",
        "outputId": "3777bd25-1287-4c3c-b346-d594b9417a53"
      },
      "execution_count": null,
      "outputs": [
        {
          "output_type": "execute_result",
          "data": {
            "text/plain": [
              "dtype('float64')"
            ]
          },
          "metadata": {},
          "execution_count": 15
        }
      ]
    },
    {
      "cell_type": "code",
      "source": [
        "np.array?"
      ],
      "metadata": {
        "id": "S0KwUJAmzID7"
      },
      "execution_count": null,
      "outputs": []
    },
    {
      "cell_type": "code",
      "source": [
        "np.array([[1,2],[3,4]],float).dtype"
      ],
      "metadata": {
        "colab": {
          "base_uri": "https://localhost:8080/"
        },
        "id": "nNAqvI5ZzVCS",
        "outputId": "11765ef5-e517-45f9-b1a4-8fc5b3eedb0b"
      },
      "execution_count": null,
      "outputs": [
        {
          "output_type": "execute_result",
          "data": {
            "text/plain": [
              "dtype('float64')"
            ]
          },
          "metadata": {},
          "execution_count": 18
        }
      ]
    },
    {
      "cell_type": "code",
      "source": [
        "x.shape #nbr rows & columns of x"
      ],
      "metadata": {
        "colab": {
          "base_uri": "https://localhost:8080/"
        },
        "id": "7SEGV9DBzh9c",
        "outputId": "2dca20d3-328d-465e-a00f-e45f1f90093b"
      },
      "execution_count": null,
      "outputs": [
        {
          "output_type": "execute_result",
          "data": {
            "text/plain": [
              "(2, 2)"
            ]
          },
          "metadata": {},
          "execution_count": 19
        }
      ]
    },
    {
      "cell_type": "code",
      "source": [
        "x.sum() #sum elements of x"
      ],
      "metadata": {
        "colab": {
          "base_uri": "https://localhost:8080/"
        },
        "id": "jRD8RBxgzo-B",
        "outputId": "9a1ec6fe-492f-4bdd-8eae-a935c039487a"
      },
      "execution_count": null,
      "outputs": [
        {
          "output_type": "execute_result",
          "data": {
            "text/plain": [
              "10"
            ]
          },
          "metadata": {},
          "execution_count": 20
        }
      ]
    },
    {
      "cell_type": "code",
      "source": [
        "np.sum(x) #sum elements of x"
      ],
      "metadata": {
        "colab": {
          "base_uri": "https://localhost:8080/"
        },
        "id": "p4VL4QKT0A8i",
        "outputId": "44e721ea-7f95-4f25-d8ea-b12379930ebf"
      },
      "execution_count": null,
      "outputs": [
        {
          "output_type": "execute_result",
          "data": {
            "text/plain": [
              "10"
            ]
          },
          "metadata": {},
          "execution_count": 21
        }
      ]
    },
    {
      "cell_type": "markdown",
      "source": [
        "## Tuples (r,c)\n",
        "specifies nbr rows and columns"
      ],
      "metadata": {
        "id": "r-cqdA1L0M9R"
      }
    },
    {
      "cell_type": "code",
      "source": [
        "x = np.array([1,2,3,4,5,6])\n",
        "print('beginning x:\\n', x)\n",
        "x_reshape = x.reshape((2,3))#reshape array 1D in new dimension\n",
        "                            #tuples (2,3) specifies 2 rows and 3 columns\n",
        "print('reshaped x:\\n', x_reshape)"
      ],
      "metadata": {
        "colab": {
          "base_uri": "https://localhost:8080/"
        },
        "id": "wZo81SV00IuT",
        "outputId": "6edce6fe-54f2-4c4e-ae6c-dc87d5b9060f"
      },
      "execution_count": null,
      "outputs": [
        {
          "output_type": "stream",
          "name": "stdout",
          "text": [
            "beginning x:\n",
            " [1 2 3 4 5 6]\n",
            "reshaped x:\n",
            " [[1 2 3]\n",
            " [4 5 6]]\n"
          ]
        }
      ]
    },
    {
      "cell_type": "markdown",
      "source": [
        "arrays are 0-based indexing"
      ],
      "metadata": {
        "id": "_i210dgI14RC"
      }
    },
    {
      "cell_type": "code",
      "source": [
        "x_reshape[0,0]#access row 1 column 1"
      ],
      "metadata": {
        "colab": {
          "base_uri": "https://localhost:8080/"
        },
        "id": "qBrcDqG_0rJ_",
        "outputId": "3ab440e4-d5f2-4caa-df24-a9e17526664d"
      },
      "execution_count": null,
      "outputs": [
        {
          "output_type": "execute_result",
          "data": {
            "text/plain": [
              "1"
            ]
          },
          "metadata": {},
          "execution_count": 24
        }
      ]
    },
    {
      "cell_type": "code",
      "source": [
        "x_reshape[1,2]#access row 2 column 3"
      ],
      "metadata": {
        "colab": {
          "base_uri": "https://localhost:8080/"
        },
        "id": "1tBj59-J19ir",
        "outputId": "4e2af2c0-22e5-4ea1-c4f5-dc8ac9735a5f"
      },
      "execution_count": null,
      "outputs": [
        {
          "output_type": "execute_result",
          "data": {
            "text/plain": [
              "6"
            ]
          },
          "metadata": {},
          "execution_count": 25
        }
      ]
    },
    {
      "cell_type": "markdown",
      "source": [
        "modifying x_reshape also modify x because the two objects occupy the same space in memory"
      ],
      "metadata": {
        "id": "zgiqKpvD2-7W"
      }
    },
    {
      "cell_type": "code",
      "source": [
        "print('x before we modify x_reshape : \\n', x)\n",
        "print('x_Reshape before we modify x_reshape : \\n', x_reshape)\n",
        "x_reshape[0,0]=5\n",
        "print('x_reshape after we modify its top left element:\\n', x_reshape)\n",
        "print('x after we modify top left element of x_Reshape:\\n', x)"
      ],
      "metadata": {
        "colab": {
          "base_uri": "https://localhost:8080/"
        },
        "id": "duHqw-iU2Xip",
        "outputId": "401e7022-bc46-49ce-cdc9-a357b0908695"
      },
      "execution_count": null,
      "outputs": [
        {
          "output_type": "stream",
          "name": "stdout",
          "text": [
            "x before we modify x_reshape : \n",
            " [1 2 3 4 5 6]\n",
            "x_Reshape before we modify x_reshape : \n",
            " [[1 2 3]\n",
            " [4 5 6]]\n",
            "x_reshape after we modify its top left element:\n",
            " [[5 2 3]\n",
            " [4 5 6]]\n",
            "x after we modify top left element of x_Reshape:\n",
            " [5 2 3 4 5 6]\n"
          ]
        }
      ]
    },
    {
      "cell_type": "markdown",
      "source": [
        "arrays can be modified but not tuples"
      ],
      "metadata": {
        "id": "IZohCKPV3TmR"
      }
    },
    {
      "cell_type": "code",
      "source": [
        "my_tuple = (3,4,5)\n",
        "my_tuple[0]=2"
      ],
      "metadata": {
        "colab": {
          "base_uri": "https://localhost:8080/",
          "height": 192
        },
        "id": "2ctJ5HQJ3GKU",
        "outputId": "273b31c8-aa74-439b-d278-e417eca3467e"
      },
      "execution_count": null,
      "outputs": [
        {
          "output_type": "error",
          "ename": "TypeError",
          "evalue": "ignored",
          "traceback": [
            "\u001b[0;31m---------------------------------------------------------------------------\u001b[0m",
            "\u001b[0;31mTypeError\u001b[0m                                 Traceback (most recent call last)",
            "\u001b[0;32m<ipython-input-29-80113c6a4fe8>\u001b[0m in \u001b[0;36m<cell line: 2>\u001b[0;34m()\u001b[0m\n\u001b[1;32m      1\u001b[0m \u001b[0mmy_tuple\u001b[0m \u001b[0;34m=\u001b[0m \u001b[0;34m(\u001b[0m\u001b[0;36m3\u001b[0m\u001b[0;34m,\u001b[0m\u001b[0;36m4\u001b[0m\u001b[0;34m,\u001b[0m\u001b[0;36m5\u001b[0m\u001b[0;34m)\u001b[0m\u001b[0;34m\u001b[0m\u001b[0;34m\u001b[0m\u001b[0m\n\u001b[0;32m----> 2\u001b[0;31m \u001b[0mmy_tuple\u001b[0m\u001b[0;34m[\u001b[0m\u001b[0;36m0\u001b[0m\u001b[0;34m]\u001b[0m\u001b[0;34m=\u001b[0m\u001b[0;36m2\u001b[0m\u001b[0;34m\u001b[0m\u001b[0;34m\u001b[0m\u001b[0m\n\u001b[0m",
            "\u001b[0;31mTypeError\u001b[0m: 'tuple' object does not support item assignment"
          ]
        }
      ]
    },
    {
      "cell_type": "code",
      "source": [
        "x_reshape.shape, x_reshape.ndim, x_reshape.T #Transpose x_reshape matrix"
      ],
      "metadata": {
        "colab": {
          "base_uri": "https://localhost:8080/"
        },
        "id": "cjL0s1r63j0u",
        "outputId": "5e8e1b21-9778-4551-a58c-035228af8ca7"
      },
      "execution_count": null,
      "outputs": [
        {
          "output_type": "execute_result",
          "data": {
            "text/plain": [
              "((2, 3),\n",
              " 2,\n",
              " array([[5, 4],\n",
              "        [2, 5],\n",
              "        [3, 6]]))"
            ]
          },
          "metadata": {},
          "execution_count": 30
        }
      ]
    },
    {
      "cell_type": "code",
      "source": [
        "np.sqrt(x)#square root of x"
      ],
      "metadata": {
        "colab": {
          "base_uri": "https://localhost:8080/"
        },
        "id": "DCDLMely3q6N",
        "outputId": "861ceb1e-4927-4f8e-d646-45fcebe5ab1e"
      },
      "execution_count": null,
      "outputs": [
        {
          "output_type": "execute_result",
          "data": {
            "text/plain": [
              "array([2.23606798, 1.41421356, 1.73205081, 2.        , 2.23606798,\n",
              "       2.44948974])"
            ]
          },
          "metadata": {},
          "execution_count": 31
        }
      ]
    },
    {
      "cell_type": "code",
      "source": [
        "x**2 #square x"
      ],
      "metadata": {
        "colab": {
          "base_uri": "https://localhost:8080/"
        },
        "id": "lTAmFAdW4JoB",
        "outputId": "84682722-5838-4d4b-9d38-31bda9643dbe"
      },
      "execution_count": null,
      "outputs": [
        {
          "output_type": "execute_result",
          "data": {
            "text/plain": [
              "array([25,  4,  9, 16, 25, 36])"
            ]
          },
          "metadata": {},
          "execution_count": 32
        }
      ]
    },
    {
      "cell_type": "code",
      "source": [
        "x**0.5 #square root of x"
      ],
      "metadata": {
        "colab": {
          "base_uri": "https://localhost:8080/"
        },
        "id": "D4DkrZmQ4RDH",
        "outputId": "71409791-a705-45a0-85dd-f914c6d8708e"
      },
      "execution_count": null,
      "outputs": [
        {
          "output_type": "execute_result",
          "data": {
            "text/plain": [
              "array([2.23606798, 1.41421356, 1.73205081, 2.        , 2.23606798,\n",
              "       2.44948974])"
            ]
          },
          "metadata": {},
          "execution_count": 33
        }
      ]
    },
    {
      "cell_type": "markdown",
      "source": [
        "## random data"
      ],
      "metadata": {
        "id": "-dbtrW0W4Znu"
      }
    },
    {
      "cell_type": "markdown",
      "source": [
        "np.random.normal(loc=y, scale=z, size=x) generate a random vector of size x from a distribution normale N(y,z)"
      ],
      "metadata": {
        "id": "TN-H6QIS-GP9"
      }
    },
    {
      "cell_type": "code",
      "source": [
        "np.random.normal() #generate random number"
      ],
      "metadata": {
        "id": "tXleuskO4YBp",
        "colab": {
          "base_uri": "https://localhost:8080/"
        },
        "outputId": "c085566e-a89b-4b9f-bbff-138441c1c439"
      },
      "execution_count": null,
      "outputs": [
        {
          "output_type": "execute_result",
          "data": {
            "text/plain": [
              "-1.4721889142860045"
            ]
          },
          "metadata": {},
          "execution_count": 3
        }
      ]
    },
    {
      "cell_type": "code",
      "source": [
        "x=np.random.normal(size=50) #generate random vector of size 50 from N(0,1)\n",
        "x"
      ],
      "metadata": {
        "colab": {
          "base_uri": "https://localhost:8080/"
        },
        "id": "kWwdaQr6-I4r",
        "outputId": "c09c7b0e-706d-408e-dfa9-d3ff7d8e4b86"
      },
      "execution_count": null,
      "outputs": [
        {
          "output_type": "execute_result",
          "data": {
            "text/plain": [
              "array([ 1.25908858, -0.48331109,  0.14163722, -0.94565915, -1.78938297,\n",
              "       -0.32904128, -2.45197081, -0.46228938, -1.25686486, -0.19324954,\n",
              "       -1.55502261,  1.86553071,  2.01914152, -0.82532233, -1.36437915,\n",
              "        1.52658776,  1.01757421, -1.65636347, -0.47099198,  1.35398154,\n",
              "       -1.60094261,  0.29987993, -1.11241335,  0.02833863, -0.08118457,\n",
              "       -1.06413675, -0.79507726,  1.31795067,  0.10598127, -1.02297336,\n",
              "        1.8283549 , -1.52703376,  0.83557143, -0.74801164, -1.43089822,\n",
              "        0.06621098, -0.5976404 , -2.28065398,  0.77828816, -0.27409233,\n",
              "       -0.81205038,  0.47409035,  0.12972519, -0.30575656,  0.55657235,\n",
              "       -0.82333274,  0.81105297, -0.21096106,  0.79291092, -0.28833852])"
            ]
          },
          "metadata": {},
          "execution_count": 4
        }
      ]
    },
    {
      "cell_type": "code",
      "source": [
        "y= x + np.random.normal(loc=50, scale=1, size=50) #create y by adding a random vector from N(50,1) to x\n",
        "y"
      ],
      "metadata": {
        "colab": {
          "base_uri": "https://localhost:8080/"
        },
        "id": "4UfirsDJ-OEc",
        "outputId": "2302ddc5-3be2-4059-f8e1-c813e5b88025"
      },
      "execution_count": null,
      "outputs": [
        {
          "output_type": "execute_result",
          "data": {
            "text/plain": [
              "array([50.40938215, 49.66320655, 49.85169711, 49.78536628, 49.27285413,\n",
              "       49.76919017, 46.41708222, 48.45732887, 48.81081298, 51.19200257,\n",
              "       47.39122596, 52.2328937 , 53.08192988, 49.37517564, 49.07631681,\n",
              "       53.45419827, 50.82303073, 47.4507094 , 49.48337921, 51.78524492,\n",
              "       46.70564834, 51.15723215, 48.97609316, 49.44929969, 50.67866488,\n",
              "       48.19575205, 49.72715694, 50.60630149, 50.23081154, 49.43943927,\n",
              "       52.51702339, 47.38965034, 49.49682027, 48.59759293, 48.20736716,\n",
              "       50.16392585, 50.14085809, 47.19343483, 50.87700754, 47.68183922,\n",
              "       49.47458585, 51.15396065, 50.42395749, 49.9108951 , 48.76179736,\n",
              "       49.6964828 , 49.5366706 , 48.61537483, 51.38016552, 51.42156007])"
            ]
          },
          "metadata": {},
          "execution_count": 5
        }
      ]
    },
    {
      "cell_type": "markdown",
      "source": [
        "## Correlation matrix\n",
        "np.corrcoef()"
      ],
      "metadata": {
        "id": "O5wcVJN3-O7y"
      }
    },
    {
      "cell_type": "code",
      "source": [
        "np.corrcoef(x,y)"
      ],
      "metadata": {
        "colab": {
          "base_uri": "https://localhost:8080/"
        },
        "id": "PcWSW5Fz-SqE",
        "outputId": "ea817d32-07cd-45fc-cd00-dda2fe2c3f42"
      },
      "execution_count": null,
      "outputs": [
        {
          "output_type": "execute_result",
          "data": {
            "text/plain": [
              "array([[1.        , 0.82873021],\n",
              "       [0.82873021, 1.        ]])"
            ]
          },
          "metadata": {},
          "execution_count": 6
        }
      ]
    },
    {
      "cell_type": "code",
      "source": [
        "print(np.random.normal(scale=5, size=2))\n",
        "print(np.random.normal(scale=5, size=2))"
      ],
      "metadata": {
        "colab": {
          "base_uri": "https://localhost:8080/"
        },
        "id": "bj0ToMco-VRZ",
        "outputId": "9e00ebc8-7635-4062-f264-f72ec5a4d29b"
      },
      "execution_count": null,
      "outputs": [
        {
          "output_type": "stream",
          "name": "stdout",
          "text": [
            "[-7.40345556  1.56942508]\n",
            "[ 2.82833689 -7.26903199]\n"
          ]
        }
      ]
    },
    {
      "cell_type": "code",
      "source": [
        "rng = np.random.default_rng(1303) #using random seed to make sure the same numbers are regenerated when re-running the code\n",
        "                                  #the argument is arbitrary and user-specified\n",
        "print(rng.normal(scale=5, size=2))\n",
        "rng2=np.random.default_rng(1303)\n",
        "print(rng2.normal(scale=5, size=2))"
      ],
      "metadata": {
        "colab": {
          "base_uri": "https://localhost:8080/"
        },
        "id": "mvwqwrwf-Wp_",
        "outputId": "223bdc19-bc70-4218-b6b9-ebf424468ae5"
      },
      "execution_count": 6,
      "outputs": [
        {
          "output_type": "stream",
          "name": "stdout",
          "text": [
            "[ 4.09482632 -1.07485605]\n",
            "[ 4.09482632 -1.07485605]\n"
          ]
        }
      ]
    },
    {
      "cell_type": "code",
      "source": [
        "rng = np.random.default_rng(3) #random seed\n",
        "y = rng.standard_normal(10)\n",
        "y.mean(), np.mean(y) #mean of y"
      ],
      "metadata": {
        "colab": {
          "base_uri": "https://localhost:8080/"
        },
        "id": "y_Pzosn3-p91",
        "outputId": "63fbb915-09a6-4b81-83d3-0b12648c627c"
      },
      "execution_count": 7,
      "outputs": [
        {
          "output_type": "execute_result",
          "data": {
            "text/plain": [
              "(-0.1126795190952861, -0.1126795190952861)"
            ]
          },
          "metadata": {},
          "execution_count": 7
        }
      ]
    },
    {
      "cell_type": "markdown",
      "source": [
        "Variance is the measure of variability that shows how far the set of values varies from the mean of the set.\n",
        "\n",
        "![image.png](data:image/png;base64,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)\n",
        "\n",
        "Variance is the mean of the squares of the difference from the mean. It is equal to the squared standard deviation.\n",
        "\n",
        "![image.png](data:image/png;base64,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)"
      ],
      "metadata": {
        "id": "Muw5lRN4AKrf"
      }
    },
    {
      "cell_type": "code",
      "source": [
        "np.var(y), y.var(), np.mean((y-y.mean())**2) #variance of y"
      ],
      "metadata": {
        "colab": {
          "base_uri": "https://localhost:8080/"
        },
        "id": "KNRoUtg4_AIu",
        "outputId": "1c48691b-076b-4433-e7ee-43a5b122d333"
      },
      "execution_count": null,
      "outputs": [
        {
          "output_type": "execute_result",
          "data": {
            "text/plain": [
              "(2.7243406406465125, 2.7243406406465125, 2.7243406406465125)"
            ]
          },
          "metadata": {},
          "execution_count": 13
        }
      ]
    },
    {
      "cell_type": "code",
      "source": [
        "np.sqrt(y.var()), np.std() #standard deviation of y (=écart-type)"
      ],
      "metadata": {
        "colab": {
          "base_uri": "https://localhost:8080/"
        },
        "id": "qgmODvB3_O9B",
        "outputId": "751a7511-fd55-4a64-eae5-cafde58df426"
      },
      "execution_count": null,
      "outputs": [
        {
          "output_type": "execute_result",
          "data": {
            "text/plain": [
              "1.6505576756498128"
            ]
          },
          "metadata": {},
          "execution_count": 17
        }
      ]
    },
    {
      "cell_type": "code",
      "source": [
        "x = rng.standard_normal((10,3)) #matrix (10,3) of random numbers from N(0,1)\n",
        "x"
      ],
      "metadata": {
        "colab": {
          "base_uri": "https://localhost:8080/"
        },
        "id": "KYu6EhDvCWNk",
        "outputId": "56c48292-eca4-45fd-b558-f0ebfd808672"
      },
      "execution_count": 8,
      "outputs": [
        {
          "output_type": "execute_result",
          "data": {
            "text/plain": [
              "array([[ 0.22578661, -0.35263079, -0.28128742],\n",
              "       [-0.66804635, -1.05515055, -0.39080098],\n",
              "       [ 0.48194539, -0.23855361,  0.9577587 ],\n",
              "       [-0.19980213,  0.02425957,  1.54582085],\n",
              "       [ 0.54510552, -0.50522874, -0.18283897],\n",
              "       [ 0.54052513,  1.93508803, -0.26962033],\n",
              "       [-0.24355868,  1.0023136 , -0.88645994],\n",
              "       [-0.29172023,  0.88253897,  0.58035002],\n",
              "       [ 0.0915167 ,  0.67010435, -2.82816231],\n",
              "       [ 1.02130682, -0.95964476, -1.66861984]])"
            ]
          },
          "metadata": {},
          "execution_count": 8
        }
      ]
    },
    {
      "cell_type": "code",
      "source": [
        "x[0].mean() #mean of the first row"
      ],
      "metadata": {
        "colab": {
          "base_uri": "https://localhost:8080/"
        },
        "id": "LGK4QXMwDrZz",
        "outputId": "a1533c21-aede-4f53-9209-5da8862d25b3"
      },
      "execution_count": null,
      "outputs": [
        {
          "output_type": "execute_result",
          "data": {
            "text/plain": [
              "-0.13604386642167468"
            ]
          },
          "metadata": {},
          "execution_count": 23
        }
      ]
    },
    {
      "cell_type": "code",
      "source": [
        "x.mean(axis=0), x.mean(0) #mean of the columns"
      ],
      "metadata": {
        "colab": {
          "base_uri": "https://localhost:8080/"
        },
        "id": "c9K_z5xsDzy8",
        "outputId": "5aacce7d-8be3-460b-e1da-9ac6fc30f93d"
      },
      "execution_count": null,
      "outputs": [
        {
          "output_type": "execute_result",
          "data": {
            "text/plain": [
              "(array([ 0.15030588,  0.14030961, -0.34238602]),\n",
              " array([ 0.15030588,  0.14030961, -0.34238602]))"
            ]
          },
          "metadata": {},
          "execution_count": 24
        }
      ]
    },
    {
      "cell_type": "code",
      "source": [
        "x.mean(1) #mean of the rows"
      ],
      "metadata": {
        "colab": {
          "base_uri": "https://localhost:8080/"
        },
        "id": "LBnIz3sqEhit",
        "outputId": "750b0a90-7dc7-4164-c224-2f4d202fff7a"
      },
      "execution_count": null,
      "outputs": [
        {
          "output_type": "execute_result",
          "data": {
            "text/plain": [
              "array([-0.13604387, -0.70466596,  0.40038349,  0.45675943, -0.04765406,\n",
              "        0.73533095, -0.04256834,  0.39038958, -0.68884708, -0.53565259])"
            ]
          },
          "metadata": {},
          "execution_count": 28
        }
      ]
    },
    {
      "cell_type": "markdown",
      "source": [
        "# Graphics with Matplotlib"
      ],
      "metadata": {
        "id": "ww6kayI1Ey7z"
      }
    },
    {
      "cell_type": "markdown",
      "source": [
        "subplots() to create figure and axes\n",
        "\n",
        "figure is the plotting window for one or more plots\n",
        "\n",
        "axes contain x and y axis labels, title, ..."
      ],
      "metadata": {
        "id": "cAOQ4yNcG8BQ"
      }
    },
    {
      "cell_type": "code",
      "source": [
        "from matplotlib.pyplot import subplots"
      ],
      "metadata": {
        "id": "C3HvPoLHG7tq"
      },
      "execution_count": 3,
      "outputs": []
    },
    {
      "cell_type": "code",
      "source": [
        "fig, ax = subplots(figsize = (2,2))\n",
        "\n",
        "x = rng.standard_normal(100)\n",
        "y = rng.standard_normal(100)\n",
        "\n",
        "ax.plot(x,y) #line plot by default"
      ],
      "metadata": {
        "colab": {
          "base_uri": "https://localhost:8080/",
          "height": 231
        },
        "id": "waoarS_nErOW",
        "outputId": "2001c1a1-55e5-4be6-a89e-4048aa98829e"
      },
      "execution_count": 9,
      "outputs": [
        {
          "output_type": "execute_result",
          "data": {
            "text/plain": [
              "[<matplotlib.lines.Line2D at 0x7bb9a8317ca0>]"
            ]
          },
          "metadata": {},
          "execution_count": 9
        },
        {
          "output_type": "display_data",
          "data": {
            "text/plain": [
              "<Figure size 200x200 with 1 Axes>"
            ],
            "image/png": "[encoded data removed]"
          },
          "metadata": {}
        }
      ]
    },
    {
      "cell_type": "code",
      "source": [
        "output = subplots(figsize = (2,2))\n",
        "fig = output[0]\n",
        "ax=output[1]"
      ],
      "metadata": {
        "id": "gs8jkYbuIjpv"
      },
      "execution_count": null,
      "outputs": []
    },
    {
      "cell_type": "code",
      "source": [
        "fig, ax = subplots(figsize=(2,2))\n",
        "ax.plot(x,y,'o') #scatterplot with 'o' argument"
      ],
      "metadata": {
        "colab": {
          "base_uri": "https://localhost:8080/",
          "height": 231
        },
        "id": "Zdp6NOtnIwzB",
        "outputId": "156216fd-e026-4711-fde7-18193954618a"
      },
      "execution_count": null,
      "outputs": [
        {
          "output_type": "execute_result",
          "data": {
            "text/plain": [
              "[<matplotlib.lines.Line2D at 0x7c804605cd90>]"
            ]
          },
          "metadata": {},
          "execution_count": 34
        },
        {
          "output_type": "display_data",
          "data": {
            "text/plain": [
              "<Figure size 200x200 with 1 Axes>"
            ],
            "image/png": "[encoded data removed]"
          },
          "metadata": {}
        }
      ]
    },
    {
      "cell_type": "code",
      "source": [
        "fig, ax = subplots(figsize=(2,2))\n",
        "ax.scatter(x,y);  #scatter plot with scatter() function\n",
        "                  #semicolon prevent from printing text to the notebook"
      ],
      "metadata": {
        "colab": {
          "base_uri": "https://localhost:8080/",
          "height": 214
        },
        "id": "U3QL9K_MJJzQ",
        "outputId": "6ff3c4fc-76b1-4359-f6ce-ff128b03a818"
      },
      "execution_count": null,
      "outputs": [
        {
          "output_type": "display_data",
          "data": {
            "text/plain": [
              "<Figure size 200x200 with 1 Axes>"
            ],
            "image/png": "[encoded data removed]"
          },
          "metadata": {}
        }
      ]
    },
    {
      "cell_type": "code",
      "source": [
        "fig, ax = subplots(figsize = (2,2))\n",
        "ax.scatter(x,y)\n",
        "ax.set_xlabel('x-axis')#set x label\n",
        "ax.set_ylabel('y-axis')#set y label\n",
        "ax.set_title('Title'); #set plot title"
      ],
      "metadata": {
        "colab": {
          "base_uri": "https://localhost:8080/",
          "height": 256
        },
        "id": "924IBl_AUaqV",
        "outputId": "6b5ad946-2159-4f1c-a10f-6333143b32ec"
      },
      "execution_count": 11,
      "outputs": [
        {
          "output_type": "display_data",
          "data": {
            "text/plain": [
              "<Figure size 200x200 with 1 Axes>"
            ],
            "image/png": "[encoded data removed]"
          },
          "metadata": {}
        }
      ]
    },
    {
      "cell_type": "code",
      "source": [
        "fig.set_size_inches(8,5) #change figure size\n",
        "fig"
      ],
      "metadata": {
        "colab": {
          "base_uri": "https://localhost:8080/",
          "height": 446
        },
        "id": "gy1C7JNgVUj6",
        "outputId": "cde8030e-aa48-49f9-ddae-e7a3f410ce6d"
      },
      "execution_count": 12,
      "outputs": [
        {
          "output_type": "execute_result",
          "data": {
            "text/plain": [
              "<Figure size 800x500 with 1 Axes>"
            ],
            "image/png": "[encoded data removed]"
          },
          "metadata": {},
          "execution_count": 12
        }
      ]
    },
    {
      "cell_type": "code",
      "source": [
        "fig, ax = subplots(nrows = 2, ncols = 3, figsize=(10,5), sharex= False, sharey=False) #divising the figure in multiple plots\n",
        "                                                                                    #sharex and sharey set at True will fixes the axis as the same for every plots (false by default)\n",
        "ax[0,1].scatter(x,y,marker='o')\n",
        "ax[1,2].scatter(x,y,marker='+');"
      ],
      "metadata": {
        "colab": {
          "base_uri": "https://localhost:8080/",
          "height": 343
        },
        "id": "iyS10wH3Vljc",
        "outputId": "c8e3b979-d4f7-40d4-e481-06f44f6ee63b"
      },
      "execution_count": 26,
      "outputs": [
        {
          "output_type": "display_data",
          "data": {
            "text/plain": [
              "<Figure size 1000x500 with 6 Axes>"
            ],
            "image/png": "[encoded data removed]"
          },
          "metadata": {}
        }
      ]
    },
    {
      "cell_type": "code",
      "source": [
        "fig.savefig('Figure.png', dpi = 400)  #save figure in the wanted format\n",
        "                                      #dpi = dots per inches to define how large will the figure be in pixels\n",
        "fig.savefig('Figure.jpg', dpi = 200);"
      ],
      "metadata": {
        "id": "Pm-8G5soZepo"
      },
      "execution_count": 27,
      "outputs": []
    },
    {
      "cell_type": "code",
      "source": [
        "ax[0,1].set_xlim([-1,5])\n",
        "fig.savefig('Figure_updated.jpg')\n",
        "fig"
      ],
      "metadata": {
        "colab": {
          "base_uri": "https://localhost:8080/",
          "height": 343
        },
        "id": "ATdjRqR7aVzs",
        "outputId": "744cd400-eda9-4d5c-a788-42fb4b28bf25"
      },
      "execution_count": 29,
      "outputs": [
        {
          "output_type": "execute_result",
          "data": {
            "text/plain": [
              "<Figure size 1000x500 with 6 Axes>"
            ],
            "image/png": "[encoded data removed]"
          },
          "metadata": {},
          "execution_count": 29
        }
      ]
    },
    {
      "cell_type": "code",
      "source": [
        "np.multiply.outer?"
      ],
      "metadata": {
        "id": "NhVizUAvduZw"
      },
      "execution_count": 37,
      "outputs": []
    },
    {
      "cell_type": "code",
      "source": [
        "x = np.linspace(-np.pi, np.pi, 50) #np.linspace(x,y,z) create a vector of z values starting at x and ending at y\n",
        "y = x\n",
        "z = np.multiply.outer(np.cos(y), 1/(1+x**2)) #matrix\n",
        "\n",
        "fig, ax = subplots(figsize = (2,2))\n",
        "ax.contour(x,y,z); #present 3D dat as a topographical map"
      ],
      "metadata": {
        "colab": {
          "base_uri": "https://localhost:8080/",
          "height": 214
        },
        "id": "UJWddqG_bScy",
        "outputId": "10eeef83-5fa9-42b4-9b8a-4e1460145fd2"
      },
      "execution_count": 41,
      "outputs": [
        {
          "output_type": "display_data",
          "data": {
            "text/plain": [
              "<Figure size 200x200 with 1 Axes>"
            ],
            "image/png": "[encoded data removed]"
          },
          "metadata": {}
        }
      ]
    },
    {
      "cell_type": "code",
      "source": [
        "fig,ax=subplots(figsize=(2,2))\n",
        "ax.contour(x,y,z,levels = 45); #adding more levels"
      ],
      "metadata": {
        "colab": {
          "base_uri": "https://localhost:8080/",
          "height": 214
        },
        "id": "xavzF3NXfNUL",
        "outputId": "39a096d5-0474-438e-b4ad-73292d739647"
      },
      "execution_count": 42,
      "outputs": [
        {
          "output_type": "display_data",
          "data": {
            "text/plain": [
              "<Figure size 200x200 with 1 Axes>"
            ],
            "image/png": "[encoded data removed]"
          },
          "metadata": {}
        }
      ]
    },
    {
      "cell_type": "code",
      "source": [
        "fig, ax = subplots(figsize=(2,2))\n",
        "ax.imshow(z); #heatmap : color coded plot depending on the matrix value"
      ],
      "metadata": {
        "colab": {
          "base_uri": "https://localhost:8080/",
          "height": 218
        },
        "id": "pTqLqM_Cfd34",
        "outputId": "38d325c4-b472-4127-e1b9-ea0412bc86fb"
      },
      "execution_count": 45,
      "outputs": [
        {
          "output_type": "display_data",
          "data": {
            "text/plain": [
              "<Figure size 200x200 with 1 Axes>"
            ],
            "image/png": "[encoded data removed]"
          },
          "metadata": {}
        }
      ]
    },
    {
      "cell_type": "markdown",
      "source": [
        "# Sequences and slice notation"
      ],
      "metadata": {
        "id": "yF4U0Yehf-q2"
      }
    },
    {
      "cell_type": "code",
      "source": [],
      "metadata": {
        "id": "ETjkLUe5gF3d"
      },
      "execution_count": null,
      "outputs": []
    }
  ]
}