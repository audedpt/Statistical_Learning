{
  "nbformat": 4,
  "nbformat_minor": 0,
  "metadata": {
    "colab": {
      "provenance": [],
      "collapsed_sections": [
        "tnpgQHcWrbFQ"
      ],
      "authorship_tag": "ABX9TyPUrT7BnNZ7PsDv/fY28N8T",
      "include_colab_link": true
    },
    "kernelspec": {
      "name": "python3",
      "display_name": "Python 3"
    },
    "language_info": {
      "name": "python"
    }
  },
  "cells": [
    {
      "cell_type": "markdown",
      "metadata": {
        "id": "view-in-github",
        "colab_type": "text"
      },
      "source": [
        "<a href=\"https://colab.research.google.com/github/audedpt/Statistical_Learning/blob/main/Python_review.ipynb\" target=\"_parent\"><img src=\"https://colab.research.google.com/assets/colab-badge.svg\" alt=\"Open In Colab\"/></a>"
      ]
    },
    {
      "cell_type": "code",
      "execution_count": null,
      "metadata": {
        "id": "4wYoUE_EpeqR"
      },
      "outputs": [],
      "source": [
        "!pip install ISLP"
      ]
    },
    {
      "cell_type": "markdown",
      "source": [
        "# Basic commands"
      ],
      "metadata": {
        "id": "tnpgQHcWrbFQ"
      }
    },
    {
      "cell_type": "code",
      "source": [
        "print('fit a model with', 11, 'variables')"
      ],
      "metadata": {
        "colab": {
          "base_uri": "https://localhost:8080/"
        },
        "id": "c-lfpD1Sq-my",
        "outputId": "321b2857-e6b7-474b-ce44-bf6628c3ee86"
      },
      "execution_count": null,
      "outputs": [
        {
          "output_type": "stream",
          "name": "stdout",
          "text": [
            "fit a model with 11 variabels\n"
          ]
        }
      ]
    },
    {
      "cell_type": "code",
      "source": [
        "print?"
      ],
      "metadata": {
        "id": "FfVNf0nsrmz5"
      },
      "execution_count": null,
      "outputs": []
    },
    {
      "cell_type": "code",
      "source": [
        "3+5"
      ],
      "metadata": {
        "colab": {
          "base_uri": "https://localhost:8080/"
        },
        "id": "amdc8uhArwW3",
        "outputId": "efae9338-767a-4799-d5b6-ac061d63ce94"
      },
      "execution_count": null,
      "outputs": [
        {
          "output_type": "execute_result",
          "data": {
            "text/plain": [
              "8"
            ]
          },
          "metadata": {},
          "execution_count": 4
        }
      ]
    },
    {
      "cell_type": "code",
      "source": [
        "\"hello\" + ' '+ 'world' #Concatenation of strings"
      ],
      "metadata": {
        "colab": {
          "base_uri": "https://localhost:8080/",
          "height": 36
        },
        "id": "O8Hmigwpryzd",
        "outputId": "11008f97-5677-40bf-d3ee-8ce0bb2d2d8a"
      },
      "execution_count": null,
      "outputs": [
        {
          "output_type": "execute_result",
          "data": {
            "text/plain": [
              "'hello world'"
            ],
            "application/vnd.google.colaboratory.intrinsic+json": {
              "type": "string"
            }
          },
          "metadata": {},
          "execution_count": 5
        }
      ]
    },
    {
      "cell_type": "markdown",
      "source": [
        "3 types of sequences :\n",
        "* Lists\n",
        "* Tuples\n",
        "* Strings"
      ],
      "metadata": {
        "id": "MBnSMKCEr8jH"
      }
    },
    {
      "cell_type": "markdown",
      "source": [
        "## Lists [ ]"
      ],
      "metadata": {
        "id": "y3AZHkYwsMnF"
      }
    },
    {
      "cell_type": "code",
      "source": [
        "x=[3,4,5]\n",
        "x"
      ],
      "metadata": {
        "colab": {
          "base_uri": "https://localhost:8080/"
        },
        "id": "CSJWdmErsHPP",
        "outputId": "b0b6ec61-3bb1-4279-a031-b5a22dd5f68a"
      },
      "execution_count": null,
      "outputs": [
        {
          "output_type": "execute_result",
          "data": {
            "text/plain": [
              "[3, 4, 5]"
            ]
          },
          "metadata": {},
          "execution_count": 6
        }
      ]
    },
    {
      "cell_type": "code",
      "source": [
        "y =[4,9,7]\n",
        "x+y #Concatenation of lists"
      ],
      "metadata": {
        "colab": {
          "base_uri": "https://localhost:8080/"
        },
        "id": "oL26_1MMsc_y",
        "outputId": "b13b9143-ff52-421b-b107-d86e7d0d7c55"
      },
      "execution_count": null,
      "outputs": [
        {
          "output_type": "execute_result",
          "data": {
            "text/plain": [
              "[3, 4, 5, 4, 9, 7]"
            ]
          },
          "metadata": {},
          "execution_count": 7
        }
      ]
    },
    {
      "cell_type": "markdown",
      "source": [
        "# Numerical Python with Numpy"
      ],
      "metadata": {
        "id": "5ZoKkhqvs6Ny"
      }
    },
    {
      "cell_type": "code",
      "source": [
        "import numpy as np"
      ],
      "metadata": {
        "id": "OJ3AUmJUs8cf"
      },
      "execution_count": null,
      "outputs": []
    },
    {
      "cell_type": "markdown",
      "source": [
        "## np.array()"
      ],
      "metadata": {
        "id": "LCNMFGwytm8v"
      }
    },
    {
      "cell_type": "markdown",
      "source": [
        "array = multidimensional set of numbers"
      ],
      "metadata": {
        "id": "FdaQ_jcVtZxH"
      }
    },
    {
      "cell_type": "code",
      "source": [
        "x = np.array([3,4,5])#1D array\n",
        "y = np.array([4,9,7])\n",
        "x+y #sum of arrays"
      ],
      "metadata": {
        "colab": {
          "base_uri": "https://localhost:8080/"
        },
        "id": "KADn-h59tXGj",
        "outputId": "920cb631-d2e3-4f7d-df78-5110d16b683c"
      },
      "execution_count": null,
      "outputs": [
        {
          "output_type": "execute_result",
          "data": {
            "text/plain": [
              "array([ 7, 13, 12])"
            ]
          },
          "metadata": {},
          "execution_count": 9
        }
      ]
    },
    {
      "cell_type": "markdown",
      "source": [
        "vectors = 1D arrays np.array([ ])\n",
        "\n",
        "matrices = 2D arrays np.array([[ ],[ ]]) or np.matrix([[ ],[ ]])"
      ],
      "metadata": {
        "id": "H6upTZ44uS7p"
      }
    },
    {
      "cell_type": "code",
      "source": [
        "x = np.array([[1,2],[3,4]]) #2D array\n",
        "x"
      ],
      "metadata": {
        "colab": {
          "base_uri": "https://localhost:8080/"
        },
        "id": "Ied-uwtHt-T3",
        "outputId": "886fe1ed-13f7-44b4-a2ff-ed8fe60c9302"
      },
      "execution_count": null,
      "outputs": [
        {
          "output_type": "execute_result",
          "data": {
            "text/plain": [
              "array([[1, 2],\n",
              "       [3, 4]])"
            ]
          },
          "metadata": {},
          "execution_count": 11
        }
      ]
    },
    {
      "cell_type": "markdown",
      "source": [],
      "metadata": {
        "id": "2Q7UGDJzypCP"
      }
    },
    {
      "cell_type": "code",
      "source": [
        "z = np.matrix([[1,2],[3,4]])\n",
        "z"
      ],
      "metadata": {
        "colab": {
          "base_uri": "https://localhost:8080/"
        },
        "id": "3m0t_9qZyXRX",
        "outputId": "94544d01-90bb-4e74-f67b-9e9852dd7a39"
      },
      "execution_count": null,
      "outputs": [
        {
          "output_type": "execute_result",
          "data": {
            "text/plain": [
              "matrix([[1, 2],\n",
              "        [3, 4]])"
            ]
          },
          "metadata": {},
          "execution_count": 14
        }
      ]
    },
    {
      "cell_type": "markdown",
      "source": [
        "### attributes of an array\n",
        "x.attribute"
      ],
      "metadata": {
        "id": "-IqtTnhaxPbY"
      }
    },
    {
      "cell_type": "code",
      "source": [
        "x.ndim #nbr dimension of x"
      ],
      "metadata": {
        "colab": {
          "base_uri": "https://localhost:8080/"
        },
        "id": "rjFNq5NfxUtY",
        "outputId": "419c0a16-f2f3-4151-e08f-837c00ff4f99"
      },
      "execution_count": null,
      "outputs": [
        {
          "output_type": "execute_result",
          "data": {
            "text/plain": [
              "2"
            ]
          },
          "metadata": {},
          "execution_count": 12
        }
      ]
    },
    {
      "cell_type": "code",
      "source": [
        "x.dtype #data type of x"
      ],
      "metadata": {
        "colab": {
          "base_uri": "https://localhost:8080/"
        },
        "id": "5tu-AZMnxg-J",
        "outputId": "ebf5e5aa-3848-4db0-9d7c-666760984e9a"
      },
      "execution_count": null,
      "outputs": [
        {
          "output_type": "execute_result",
          "data": {
            "text/plain": [
              "dtype('int64')"
            ]
          },
          "metadata": {},
          "execution_count": 13
        }
      ]
    },
    {
      "cell_type": "code",
      "source": [
        "np.array([[1,2],[3.0,4]]).dtype"
      ],
      "metadata": {
        "colab": {
          "base_uri": "https://localhost:8080/"
        },
        "id": "RcJGbqaoy9ZT",
        "outputId": "3777bd25-1287-4c3c-b346-d594b9417a53"
      },
      "execution_count": null,
      "outputs": [
        {
          "output_type": "execute_result",
          "data": {
            "text/plain": [
              "dtype('float64')"
            ]
          },
          "metadata": {},
          "execution_count": 15
        }
      ]
    },
    {
      "cell_type": "code",
      "source": [
        "np.array?"
      ],
      "metadata": {
        "id": "S0KwUJAmzID7"
      },
      "execution_count": null,
      "outputs": []
    },
    {
      "cell_type": "code",
      "source": [
        "np.array([[1,2],[3,4]],float).dtype"
      ],
      "metadata": {
        "colab": {
          "base_uri": "https://localhost:8080/"
        },
        "id": "nNAqvI5ZzVCS",
        "outputId": "11765ef5-e517-45f9-b1a4-8fc5b3eedb0b"
      },
      "execution_count": null,
      "outputs": [
        {
          "output_type": "execute_result",
          "data": {
            "text/plain": [
              "dtype('float64')"
            ]
          },
          "metadata": {},
          "execution_count": 18
        }
      ]
    },
    {
      "cell_type": "code",
      "source": [
        "x.shape #nbr rows & columns of x"
      ],
      "metadata": {
        "colab": {
          "base_uri": "https://localhost:8080/"
        },
        "id": "7SEGV9DBzh9c",
        "outputId": "2dca20d3-328d-465e-a00f-e45f1f90093b"
      },
      "execution_count": null,
      "outputs": [
        {
          "output_type": "execute_result",
          "data": {
            "text/plain": [
              "(2, 2)"
            ]
          },
          "metadata": {},
          "execution_count": 19
        }
      ]
    },
    {
      "cell_type": "code",
      "source": [
        "x.sum() #sum elements of x"
      ],
      "metadata": {
        "colab": {
          "base_uri": "https://localhost:8080/"
        },
        "id": "jRD8RBxgzo-B",
        "outputId": "9a1ec6fe-492f-4bdd-8eae-a935c039487a"
      },
      "execution_count": null,
      "outputs": [
        {
          "output_type": "execute_result",
          "data": {
            "text/plain": [
              "10"
            ]
          },
          "metadata": {},
          "execution_count": 20
        }
      ]
    },
    {
      "cell_type": "code",
      "source": [
        "np.sum(x) #sum elements of x"
      ],
      "metadata": {
        "colab": {
          "base_uri": "https://localhost:8080/"
        },
        "id": "p4VL4QKT0A8i",
        "outputId": "44e721ea-7f95-4f25-d8ea-b12379930ebf"
      },
      "execution_count": null,
      "outputs": [
        {
          "output_type": "execute_result",
          "data": {
            "text/plain": [
              "10"
            ]
          },
          "metadata": {},
          "execution_count": 21
        }
      ]
    },
    {
      "cell_type": "markdown",
      "source": [
        "## Tuples (r,c)\n",
        "specifies nbr rows and columns"
      ],
      "metadata": {
        "id": "r-cqdA1L0M9R"
      }
    },
    {
      "cell_type": "code",
      "source": [
        "x = np.array([1,2,3,4,5,6])\n",
        "print('beginning x:\\n', x)\n",
        "x_reshape = x.reshape((2,3))#reshape array 1D in new dimension\n",
        "                            #tuples (2,3) specifies 2 rows and 3 columns\n",
        "print('reshaped x:\\n', x_reshape)"
      ],
      "metadata": {
        "colab": {
          "base_uri": "https://localhost:8080/"
        },
        "id": "wZo81SV00IuT",
        "outputId": "6edce6fe-54f2-4c4e-ae6c-dc87d5b9060f"
      },
      "execution_count": null,
      "outputs": [
        {
          "output_type": "stream",
          "name": "stdout",
          "text": [
            "beginning x:\n",
            " [1 2 3 4 5 6]\n",
            "reshaped x:\n",
            " [[1 2 3]\n",
            " [4 5 6]]\n"
          ]
        }
      ]
    },
    {
      "cell_type": "markdown",
      "source": [
        "arrays are 0-based indexing"
      ],
      "metadata": {
        "id": "_i210dgI14RC"
      }
    },
    {
      "cell_type": "code",
      "source": [
        "x_reshape[0,0]#access row 1 column 1"
      ],
      "metadata": {
        "colab": {
          "base_uri": "https://localhost:8080/"
        },
        "id": "qBrcDqG_0rJ_",
        "outputId": "3ab440e4-d5f2-4caa-df24-a9e17526664d"
      },
      "execution_count": null,
      "outputs": [
        {
          "output_type": "execute_result",
          "data": {
            "text/plain": [
              "1"
            ]
          },
          "metadata": {},
          "execution_count": 24
        }
      ]
    },
    {
      "cell_type": "code",
      "source": [
        "x_reshape[1,2]#access row 2 column 3"
      ],
      "metadata": {
        "colab": {
          "base_uri": "https://localhost:8080/"
        },
        "id": "1tBj59-J19ir",
        "outputId": "4e2af2c0-22e5-4ea1-c4f5-dc8ac9735a5f"
      },
      "execution_count": null,
      "outputs": [
        {
          "output_type": "execute_result",
          "data": {
            "text/plain": [
              "6"
            ]
          },
          "metadata": {},
          "execution_count": 25
        }
      ]
    },
    {
      "cell_type": "markdown",
      "source": [
        "modifying x_reshape also modify x because the two objects occupy the same space in memory"
      ],
      "metadata": {
        "id": "zgiqKpvD2-7W"
      }
    },
    {
      "cell_type": "code",
      "source": [
        "print('x before we modify x_reshape : \\n', x)\n",
        "print('x_Reshape before we modify x_reshape : \\n', x_reshape)\n",
        "x_reshape[0,0]=5\n",
        "print('x_reshape after we modify its top left element:\\n', x_reshape)\n",
        "print('x after we modify top left element of x_Reshape:\\n', x)"
      ],
      "metadata": {
        "colab": {
          "base_uri": "https://localhost:8080/"
        },
        "id": "duHqw-iU2Xip",
        "outputId": "401e7022-bc46-49ce-cdc9-a357b0908695"
      },
      "execution_count": null,
      "outputs": [
        {
          "output_type": "stream",
          "name": "stdout",
          "text": [
            "x before we modify x_reshape : \n",
            " [1 2 3 4 5 6]\n",
            "x_Reshape before we modify x_reshape : \n",
            " [[1 2 3]\n",
            " [4 5 6]]\n",
            "x_reshape after we modify its top left element:\n",
            " [[5 2 3]\n",
            " [4 5 6]]\n",
            "x after we modify top left element of x_Reshape:\n",
            " [5 2 3 4 5 6]\n"
          ]
        }
      ]
    },
    {
      "cell_type": "markdown",
      "source": [
        "arrays can be modified but not tuples"
      ],
      "metadata": {
        "id": "IZohCKPV3TmR"
      }
    },
    {
      "cell_type": "code",
      "source": [
        "my_tuple = (3,4,5)\n",
        "my_tuple[0]=2"
      ],
      "metadata": {
        "colab": {
          "base_uri": "https://localhost:8080/",
          "height": 192
        },
        "id": "2ctJ5HQJ3GKU",
        "outputId": "273b31c8-aa74-439b-d278-e417eca3467e"
      },
      "execution_count": null,
      "outputs": [
        {
          "output_type": "error",
          "ename": "TypeError",
          "evalue": "ignored",
          "traceback": [
            "\u001b[0;31m---------------------------------------------------------------------------\u001b[0m",
            "\u001b[0;31mTypeError\u001b[0m                                 Traceback (most recent call last)",
            "\u001b[0;32m<ipython-input-29-80113c6a4fe8>\u001b[0m in \u001b[0;36m<cell line: 2>\u001b[0;34m()\u001b[0m\n\u001b[1;32m      1\u001b[0m \u001b[0mmy_tuple\u001b[0m \u001b[0;34m=\u001b[0m \u001b[0;34m(\u001b[0m\u001b[0;36m3\u001b[0m\u001b[0;34m,\u001b[0m\u001b[0;36m4\u001b[0m\u001b[0;34m,\u001b[0m\u001b[0;36m5\u001b[0m\u001b[0;34m)\u001b[0m\u001b[0;34m\u001b[0m\u001b[0;34m\u001b[0m\u001b[0m\n\u001b[0;32m----> 2\u001b[0;31m \u001b[0mmy_tuple\u001b[0m\u001b[0;34m[\u001b[0m\u001b[0;36m0\u001b[0m\u001b[0;34m]\u001b[0m\u001b[0;34m=\u001b[0m\u001b[0;36m2\u001b[0m\u001b[0;34m\u001b[0m\u001b[0;34m\u001b[0m\u001b[0m\n\u001b[0m",
            "\u001b[0;31mTypeError\u001b[0m: 'tuple' object does not support item assignment"
          ]
        }
      ]
    },
    {
      "cell_type": "code",
      "source": [
        "x_reshape.shape, x_reshape.ndim, x_reshape.T #Transpose x_reshape matrix"
      ],
      "metadata": {
        "colab": {
          "base_uri": "https://localhost:8080/"
        },
        "id": "cjL0s1r63j0u",
        "outputId": "5e8e1b21-9778-4551-a58c-035228af8ca7"
      },
      "execution_count": null,
      "outputs": [
        {
          "output_type": "execute_result",
          "data": {
            "text/plain": [
              "((2, 3),\n",
              " 2,\n",
              " array([[5, 4],\n",
              "        [2, 5],\n",
              "        [3, 6]]))"
            ]
          },
          "metadata": {},
          "execution_count": 30
        }
      ]
    },
    {
      "cell_type": "code",
      "source": [
        "np.sqrt(x)#square root of x"
      ],
      "metadata": {
        "colab": {
          "base_uri": "https://localhost:8080/"
        },
        "id": "DCDLMely3q6N",
        "outputId": "861ceb1e-4927-4f8e-d646-45fcebe5ab1e"
      },
      "execution_count": null,
      "outputs": [
        {
          "output_type": "execute_result",
          "data": {
            "text/plain": [
              "array([2.23606798, 1.41421356, 1.73205081, 2.        , 2.23606798,\n",
              "       2.44948974])"
            ]
          },
          "metadata": {},
          "execution_count": 31
        }
      ]
    },
    {
      "cell_type": "code",
      "source": [
        "x**2 #square x"
      ],
      "metadata": {
        "colab": {
          "base_uri": "https://localhost:8080/"
        },
        "id": "lTAmFAdW4JoB",
        "outputId": "84682722-5838-4d4b-9d38-31bda9643dbe"
      },
      "execution_count": null,
      "outputs": [
        {
          "output_type": "execute_result",
          "data": {
            "text/plain": [
              "array([25,  4,  9, 16, 25, 36])"
            ]
          },
          "metadata": {},
          "execution_count": 32
        }
      ]
    },
    {
      "cell_type": "code",
      "source": [
        "x**0.5 #square root of x"
      ],
      "metadata": {
        "colab": {
          "base_uri": "https://localhost:8080/"
        },
        "id": "D4DkrZmQ4RDH",
        "outputId": "71409791-a705-45a0-85dd-f914c6d8708e"
      },
      "execution_count": null,
      "outputs": [
        {
          "output_type": "execute_result",
          "data": {
            "text/plain": [
              "array([2.23606798, 1.41421356, 1.73205081, 2.        , 2.23606798,\n",
              "       2.44948974])"
            ]
          },
          "metadata": {},
          "execution_count": 33
        }
      ]
    },
    {
      "cell_type": "markdown",
      "source": [
        "## random data"
      ],
      "metadata": {
        "id": "-dbtrW0W4Znu"
      }
    },
    {
      "cell_type": "code",
      "source": [],
      "metadata": {
        "id": "tXleuskO4YBp"
      },
      "execution_count": null,
      "outputs": []
    }
  ]
}